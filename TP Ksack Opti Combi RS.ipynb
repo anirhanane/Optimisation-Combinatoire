{
 "cells": [
  {
   "cell_type": "code",
   "execution_count": 43,
   "id": "0f28baaa",
   "metadata": {},
   "outputs": [],
   "source": [
    "import numpy as np\n",
    "import random\n",
    "import math\n",
    "from operator import itemgetter\n",
    "import pandas as pd\n",
    "import time"
   ]
  },
  {
   "cell_type": "code",
   "execution_count": 44,
   "id": "e1639a5f",
   "metadata": {},
   "outputs": [],
   "source": [
    "class KPRS:\n",
    "    def __init__(self, cap, values, weights): # Initialisation des données\n",
    "        self.capacity = cap\n",
    "        self.values = values\n",
    "        self.weights = weights\n",
    "        self.unordered = [((v, w), i) for i, (v, w) in  enumerate(zip(self.values, self.weights))]\n",
    "        self.ordered = sorted([((v, w), i) for i, (v, w) in  enumerate(zip(self.values, self.weights))] , key = lambda tup: float(tup[0][0])/tup[0][1], reverse = True)\n",
    "    \n",
    "    def initialSolution(self): # calcul de la solution initiale\n",
    "        E=0\n",
    "        capInit=0\n",
    "        sacInit=[]\n",
    "        RemainObjects=[]\n",
    "        \n",
    "        for i in range(len(self.weights)):\n",
    "            if capInit+self.weights[i]>self.capacity:\n",
    "                i=i+1\n",
    "            else: \n",
    "                E=E+self.values[i]\n",
    "                sacInit.append(i+1)\n",
    "                capInit=capInit+self.weights[i]\n",
    "                #i=i+1\n",
    "        for i in range(len(self.weights)):\n",
    "            if sacInit.count(i+1)==0:\n",
    "                RemainObjects.append(i+1)\n",
    "        solInit=[E,capInit,sacInit,RemainObjects]                 \n",
    "        return solInit\n",
    "    \n",
    "    def calcul_cost(self,state):\n",
    "        E=0\n",
    "        for obj in state:\n",
    "            E=E+self.values[obj-1]\n",
    "        return E\n",
    "    \n",
    "    def calcul_capacity(self,state):\n",
    "        cap=0\n",
    "        for obj in state:\n",
    "            cap=cap+self.weights[obj-1]\n",
    "        return cap\n",
    "    \n",
    "    def genererNewObject(self,current_state,RemainObjects):\n",
    "    \n",
    "        objectR=np.random.choice(RemainObjects)\n",
    "        RemainObjects.remove(objectR)\n",
    "        current_state.append(objectR)\n",
    "        while self.calcul_capacity(current_state)>self.capacity:\n",
    "            objectS=np.random.choice(current_state)\n",
    "            current_state.remove(objectS)\n",
    "            RemainObjects.append(objectS)\n",
    "        \n",
    "        return current_state,RemainObjects\n",
    "\n",
    "                \n",
    "    def solveKsack_RS(self,solInit):\n",
    "        nbreObjects=len(krs.values)\n",
    "        initial_temp=90\n",
    "        final_temp=.1\n",
    "        alpha=0.01\n",
    "\n",
    "        #initialisation\n",
    "        coutI=solInit[0]\n",
    "        current_state=solInit[2]\n",
    "        RemainObjects=solInit[3]\n",
    "        current_temp=initial_temp\n",
    "        solution=current_state\n",
    "\n",
    "        while current_temp> final_temp:\n",
    "            new_state,RemainObjects=self.genererNewObject(solution,RemainObjects)\n",
    "\n",
    "            # vérifier si le voisin est le meilleur\n",
    "            cost_diff = self.calcul_cost(new_state)-coutI\n",
    "\n",
    "            # si la solution est meilleure, on l'accepte\n",
    "            if cost_diff<=0:\n",
    "                solution=new_state\n",
    "            # si la nouvelle solution n'est pas la meilleure, l'accepter avec une probabilité de e^(-cost/temp)\n",
    "\n",
    "            else:\n",
    "                if random.uniform(0,1)<math.exp(-cost_diff/current_temp):\n",
    "                    solution=new_state\n",
    "                else :\n",
    "                    solution=current_state\n",
    "            current_temp -=alpha\n",
    "        return self.calcul_cost(solution),solution"
   ]
  },
  {
   "cell_type": "code",
   "execution_count": 45,
   "id": "f4ac695a",
   "metadata": {},
   "outputs": [],
   "source": [
    "cap=10\n",
    "values=[40,50,100,95,30]\n",
    "weights=[2,3,1,5,3]\n",
    "krs=KPRS(cap,values,weights)"
   ]
  },
  {
   "cell_type": "code",
   "execution_count": 46,
   "id": "1260dcdf",
   "metadata": {},
   "outputs": [
    {
     "name": "stdout",
     "output_type": "stream",
     "text": [
      "10\n"
     ]
    }
   ],
   "source": [
    "print(krs.capacity)"
   ]
  },
  {
   "cell_type": "code",
   "execution_count": 51,
   "id": "4bc678d2",
   "metadata": {},
   "outputs": [
    {
     "name": "stdout",
     "output_type": "stream",
     "text": [
      "[220, 9, [1, 2, 3, 5], [4]]\n",
      "220\n",
      "[1, 5, 2]\n",
      "time 2.9309945106506348\n"
     ]
    }
   ],
   "source": [
    "start = time.time()\n",
    "solInit=krs.initialSolution()\n",
    "print(solInit)\n",
    "max_iter=10\n",
    "solutions=[]\n",
    "for iter in range(max_iter):\n",
    "    E,sol=krs.solveKsack_RS(solInit)\n",
    "    solutions.append((E,sol))\n",
    "sol=max(solutions,key=itemgetter(0))\n",
    "print(sol[0])\n",
    "print(sol[1])\n",
    "end = time.time()\n",
    "\n",
    "print(\"time\", end - start)"
   ]
  },
  {
   "cell_type": "code",
   "execution_count": 52,
   "id": "f06d634e",
   "metadata": {},
   "outputs": [],
   "source": [
    "def chargement_fichier(chemin):\n",
    "    data = pd.read_csv(chemin)\n",
    "    cap=int(data.columns[0].split()[1])\n",
    "    data = pd.read_csv(chemin, header=None, names=(['v','w']),sep=\" \")\n",
    "    v=data.v.values\n",
    "    w=data.w.values\n",
    "    return cap,v,w"
   ]
  },
  {
   "cell_type": "code",
   "execution_count": 57,
   "id": "497f1034",
   "metadata": {},
   "outputs": [],
   "source": [
    "cap,values,weights=chargement_fichier(r\"C:\\\\Users\\\\surfaC\\\\Desktop\\\\Master SID\\\\Optimisation Combinatoire\\\\TP\\\\TP4\\\\dataKnapsack\\\\large_scale\\\\knapPI_1_100_1000_1\")"
   ]
  },
  {
   "cell_type": "code",
   "execution_count": 58,
   "id": "fd999dc8",
   "metadata": {},
   "outputs": [
    {
     "name": "stdout",
     "output_type": "stream",
     "text": [
      "cap: 995\n",
      "values: [100  94 506 416 992 649 237 457 815 446 422 791 359 667 598   7 544 334\n",
      " 766 994 893 633 131 428 700 617 874 720 419 794 196 997 116 908 539 707\n",
      " 569 537 931 726 487 772 513  81 943  58 303 764 536 724 789 479 142 339\n",
      " 641 196 494  66 824 208 711 800 314 289 401 466 689 833 225 244 849 113\n",
      " 379 361  65 486 686 286 889  24 491 891  90 181 214  17 472 418 419 356\n",
      " 682 306 201 385 952 500 194 737 324 992 224]\n",
      "weights: [995 485 326 248 421 322 795  43 845 955 252   9 901 122  94 738 574 715\n",
      " 882 367 984 299 433 682  72 874 138 856 145 995 529 199 277  97 719 242\n",
      " 107 122  70  98 600 645 267 972 895 213 748 487 923  29 674 540 554 467\n",
      "  46 710 553 191 724 730 988  90 340 549 196 865 678 570 936 722 651 123\n",
      " 431 508 585 853 642 992 725 286 812 859 663  88 179 187 619 261 846 192\n",
      " 261 514 886 530 849 294 799 391 330 298 790]\n"
     ]
    }
   ],
   "source": [
    "print('cap:',cap)\n",
    "print('values:',values)\n",
    "print('weights:',weights)"
   ]
  },
  {
   "cell_type": "code",
   "execution_count": 59,
   "id": "15a78efc",
   "metadata": {},
   "outputs": [],
   "source": [
    "krs=KPRS(cap,values,weights)"
   ]
  },
  {
   "cell_type": "code",
   "execution_count": 60,
   "id": "c1d254b7",
   "metadata": {},
   "outputs": [
    {
     "name": "stdout",
     "output_type": "stream",
     "text": [
      "[100, 995, [1], [2, 3, 4, 5, 6, 7, 8, 9, 10, 11, 12, 13, 14, 15, 16, 17, 18, 19, 20, 21, 22, 23, 24, 25, 26, 27, 28, 29, 30, 31, 32, 33, 34, 35, 36, 37, 38, 39, 40, 41, 42, 43, 44, 45, 46, 47, 48, 49, 50, 51, 52, 53, 54, 55, 56, 57, 58, 59, 60, 61, 62, 63, 64, 65, 66, 67, 68, 69, 70, 71, 72, 73, 74, 75, 76, 77, 78, 79, 80, 81, 82, 83, 84, 85, 86, 87, 88, 89, 90, 91, 92, 93, 94, 95, 96, 97, 98, 99, 100, 101]]\n"
     ]
    },
    {
     "ename": "KeyboardInterrupt",
     "evalue": "",
     "output_type": "error",
     "traceback": [
      "\u001b[1;31m---------------------------------------------------------------------------\u001b[0m",
      "\u001b[1;31mKeyboardInterrupt\u001b[0m                         Traceback (most recent call last)",
      "\u001b[1;32m<ipython-input-60-6c6003505073>\u001b[0m in \u001b[0;36m<module>\u001b[1;34m\u001b[0m\n\u001b[0;32m      5\u001b[0m \u001b[0msolutions\u001b[0m\u001b[1;33m=\u001b[0m\u001b[1;33m[\u001b[0m\u001b[1;33m]\u001b[0m\u001b[1;33m\u001b[0m\u001b[1;33m\u001b[0m\u001b[0m\n\u001b[0;32m      6\u001b[0m \u001b[1;32mfor\u001b[0m \u001b[0miter\u001b[0m \u001b[1;32min\u001b[0m \u001b[0mrange\u001b[0m\u001b[1;33m(\u001b[0m\u001b[0mmax_iter\u001b[0m\u001b[1;33m)\u001b[0m\u001b[1;33m:\u001b[0m\u001b[1;33m\u001b[0m\u001b[1;33m\u001b[0m\u001b[0m\n\u001b[1;32m----> 7\u001b[1;33m     \u001b[0mE\u001b[0m\u001b[1;33m,\u001b[0m\u001b[0msol\u001b[0m\u001b[1;33m=\u001b[0m\u001b[0mkrs\u001b[0m\u001b[1;33m.\u001b[0m\u001b[0msolveKsack_RS\u001b[0m\u001b[1;33m(\u001b[0m\u001b[0msolInit\u001b[0m\u001b[1;33m)\u001b[0m\u001b[1;33m\u001b[0m\u001b[1;33m\u001b[0m\u001b[0m\n\u001b[0m\u001b[0;32m      8\u001b[0m     \u001b[0msolutions\u001b[0m\u001b[1;33m.\u001b[0m\u001b[0mappend\u001b[0m\u001b[1;33m(\u001b[0m\u001b[1;33m(\u001b[0m\u001b[0mE\u001b[0m\u001b[1;33m,\u001b[0m\u001b[0msol\u001b[0m\u001b[1;33m)\u001b[0m\u001b[1;33m)\u001b[0m\u001b[1;33m\u001b[0m\u001b[1;33m\u001b[0m\u001b[0m\n\u001b[0;32m      9\u001b[0m \u001b[0msol\u001b[0m\u001b[1;33m=\u001b[0m\u001b[0mmax\u001b[0m\u001b[1;33m(\u001b[0m\u001b[0msolutions\u001b[0m\u001b[1;33m,\u001b[0m\u001b[0mkey\u001b[0m\u001b[1;33m=\u001b[0m\u001b[0mitemgetter\u001b[0m\u001b[1;33m(\u001b[0m\u001b[1;36m0\u001b[0m\u001b[1;33m)\u001b[0m\u001b[1;33m)\u001b[0m\u001b[1;33m\u001b[0m\u001b[1;33m\u001b[0m\u001b[0m\n",
      "\u001b[1;32m<ipython-input-44-46cfab1c338b>\u001b[0m in \u001b[0;36msolveKsack_RS\u001b[1;34m(self, solInit)\u001b[0m\n\u001b[0;32m     66\u001b[0m \u001b[1;33m\u001b[0m\u001b[0m\n\u001b[0;32m     67\u001b[0m         \u001b[1;32mwhile\u001b[0m \u001b[0mcurrent_temp\u001b[0m\u001b[1;33m>\u001b[0m \u001b[0mfinal_temp\u001b[0m\u001b[1;33m:\u001b[0m\u001b[1;33m\u001b[0m\u001b[1;33m\u001b[0m\u001b[0m\n\u001b[1;32m---> 68\u001b[1;33m             \u001b[0mnew_state\u001b[0m\u001b[1;33m,\u001b[0m\u001b[0mRemainObjects\u001b[0m\u001b[1;33m=\u001b[0m\u001b[0mself\u001b[0m\u001b[1;33m.\u001b[0m\u001b[0mgenererNewObject\u001b[0m\u001b[1;33m(\u001b[0m\u001b[0msolution\u001b[0m\u001b[1;33m,\u001b[0m\u001b[0mRemainObjects\u001b[0m\u001b[1;33m)\u001b[0m\u001b[1;33m\u001b[0m\u001b[1;33m\u001b[0m\u001b[0m\n\u001b[0m\u001b[0;32m     69\u001b[0m \u001b[1;33m\u001b[0m\u001b[0m\n\u001b[0;32m     70\u001b[0m             \u001b[1;31m# vérifier si le voisin est le meilleur\u001b[0m\u001b[1;33m\u001b[0m\u001b[1;33m\u001b[0m\u001b[1;33m\u001b[0m\u001b[0m\n",
      "\u001b[1;32m<ipython-input-44-46cfab1c338b>\u001b[0m in \u001b[0;36mgenererNewObject\u001b[1;34m(self, current_state, RemainObjects)\u001b[0m\n\u001b[0;32m     41\u001b[0m     \u001b[1;32mdef\u001b[0m \u001b[0mgenererNewObject\u001b[0m\u001b[1;33m(\u001b[0m\u001b[0mself\u001b[0m\u001b[1;33m,\u001b[0m\u001b[0mcurrent_state\u001b[0m\u001b[1;33m,\u001b[0m\u001b[0mRemainObjects\u001b[0m\u001b[1;33m)\u001b[0m\u001b[1;33m:\u001b[0m\u001b[1;33m\u001b[0m\u001b[1;33m\u001b[0m\u001b[0m\n\u001b[0;32m     42\u001b[0m \u001b[1;33m\u001b[0m\u001b[0m\n\u001b[1;32m---> 43\u001b[1;33m         \u001b[0mobjectR\u001b[0m\u001b[1;33m=\u001b[0m\u001b[0mnp\u001b[0m\u001b[1;33m.\u001b[0m\u001b[0mrandom\u001b[0m\u001b[1;33m.\u001b[0m\u001b[0mchoice\u001b[0m\u001b[1;33m(\u001b[0m\u001b[0mRemainObjects\u001b[0m\u001b[1;33m)\u001b[0m\u001b[1;33m\u001b[0m\u001b[1;33m\u001b[0m\u001b[0m\n\u001b[0m\u001b[0;32m     44\u001b[0m         \u001b[0mRemainObjects\u001b[0m\u001b[1;33m.\u001b[0m\u001b[0mremove\u001b[0m\u001b[1;33m(\u001b[0m\u001b[0mobjectR\u001b[0m\u001b[1;33m)\u001b[0m\u001b[1;33m\u001b[0m\u001b[1;33m\u001b[0m\u001b[0m\n\u001b[0;32m     45\u001b[0m         \u001b[0mcurrent_state\u001b[0m\u001b[1;33m.\u001b[0m\u001b[0mappend\u001b[0m\u001b[1;33m(\u001b[0m\u001b[0mobjectR\u001b[0m\u001b[1;33m)\u001b[0m\u001b[1;33m\u001b[0m\u001b[1;33m\u001b[0m\u001b[0m\n",
      "\u001b[1;31mKeyboardInterrupt\u001b[0m: "
     ]
    }
   ],
   "source": [
    "start = time.time()\n",
    "solInit=krs.initialSolution()\n",
    "print(solInit)\n",
    "max_iter=30000\n",
    "solutions=[]\n",
    "for iter in range(max_iter):\n",
    "    E,sol=krs.solveKsack_RS(solInit)\n",
    "    solutions.append((E,sol))\n",
    "sol=max(solutions,key=itemgetter(0))\n",
    "print(sol[0])\n",
    "print(sol[1])\n",
    "end = time.time()\n",
    "\n",
    "print(\"time\", end - start)"
   ]
  },
  {
   "cell_type": "code",
   "execution_count": null,
   "id": "774052fa",
   "metadata": {},
   "outputs": [],
   "source": [
    "cap,values,weights=chargement_fichier(r\"C:\\\\Users\\\\surfaC\\\\Desktop\\\\Master SID\\\\Optimisation Combinatoire\\\\TP\\\\TP4\\\\dataKnapsack\\\\large_scale\\\\knapPI_3_200_1000_1\")"
   ]
  },
  {
   "cell_type": "code",
   "execution_count": null,
   "id": "fd3706dd",
   "metadata": {},
   "outputs": [],
   "source": [
    "print('cap:',cap)\n",
    "print('values:',values)\n",
    "print('weights:',weights)"
   ]
  },
  {
   "cell_type": "code",
   "execution_count": null,
   "id": "fb330618",
   "metadata": {},
   "outputs": [],
   "source": [
    "krs=KPRS(cap,values,weights)"
   ]
  },
  {
   "cell_type": "code",
   "execution_count": null,
   "id": "e2c0df51",
   "metadata": {},
   "outputs": [],
   "source": [
    "start = time.time()\n",
    "solInit=krs.initialSolution()\n",
    "print(solInit)\n",
    "max_iter=30000\n",
    "solutions=[]\n",
    "for iter in range(max_iter):\n",
    "    E,sol=krs.solveKsack_RS(solInit)\n",
    "    solutions.append((E,sol))\n",
    "sol=max(solutions,key=itemgetter(0))\n",
    "print(sol[0])\n",
    "print(sol[1])\n",
    "end = time.time()\n",
    "\n",
    "print(\"time\", end - start)"
   ]
  },
  {
   "cell_type": "code",
   "execution_count": 55,
   "id": "537d1381",
   "metadata": {},
   "outputs": [
    {
     "name": "stdout",
     "output_type": "stream",
     "text": [
      "20\n",
      "20\n"
     ]
    }
   ],
   "source": [
    "cap=878\n",
    "values=[44,46,90,72,91,40,75,35,8,54,78,40,77,15,61,17,75,29,75,63]\n",
    "print(len(values))\n",
    "weights=[92,4,43,83,84,68,92,82,6,44,32,18,56,83,25,96,70,48,14,58]\n",
    "print(len(weights))\n",
    "krs=KPRS(cap,values,weights)"
   ]
  },
  {
   "cell_type": "code",
   "execution_count": 56,
   "id": "ad8bcefb",
   "metadata": {},
   "outputs": [
    {
     "name": "stdout",
     "output_type": "stream",
     "text": [
      "[930, 874, [1, 2, 3, 4, 5, 6, 7, 8, 9, 10, 11, 12, 13, 14, 15, 18, 19], [16, 17, 20]]\n",
      "1024\n",
      "[19, 17, 1, 9, 13, 12, 4, 8, 11, 2, 7, 18, 20, 15, 5, 3]\n",
      "time 480.11031126976013\n"
     ]
    }
   ],
   "source": [
    "start = time.time()\n",
    "solInit=krs.initialSolution()\n",
    "print(solInit)\n",
    "max_iter=1000\n",
    "solutions=[]\n",
    "for iter in range(max_iter):\n",
    "    E,sol=krs.solveKsack_RS(solInit)\n",
    "    solutions.append((E,sol))\n",
    "sol=max(solutions,key=itemgetter(0))\n",
    "print(sol[0])\n",
    "print(sol[1])\n",
    "end = time.time()\n",
    "\n",
    "print(\"time\", end - start)"
   ]
  },
  {
   "cell_type": "code",
   "execution_count": 53,
   "id": "23327a9b",
   "metadata": {},
   "outputs": [
    {
     "name": "stdout",
     "output_type": "stream",
     "text": [
      "10\n",
      "10\n"
     ]
    }
   ],
   "source": [
    "cap=269\n",
    "values=[55,10,47,5,4,50,8,61,85,87]\n",
    "print(len(values))\n",
    "weights=[95,4,60,32,23,72,80,62,65,46]\n",
    "print(len(weights))\n",
    "krs=KPRS(cap,values,weights)"
   ]
  },
  {
   "cell_type": "code",
   "execution_count": 54,
   "id": "bb0089c9",
   "metadata": {},
   "outputs": [
    {
     "name": "stdout",
     "output_type": "stream",
     "text": [
      "[208, 260, [1, 2, 3, 4, 5, 10], [6, 7, 8, 9]]\n",
      "295\n",
      "[5, 2, 7, 6, 8]\n",
      "time 62.74388146400452\n"
     ]
    }
   ],
   "source": [
    "start = time.time()\n",
    "solInit=krs.initialSolution()\n",
    "print(solInit)\n",
    "max_iter=200\n",
    "solutions=[]\n",
    "for iter in range(max_iter):\n",
    "    E,sol=krs.solveKsack_RS(solInit)\n",
    "    solutions.append((E,sol))\n",
    "sol=max(solutions,key=itemgetter(0))\n",
    "print(sol[0])\n",
    "print(sol[1])\n",
    "end = time.time()\n",
    "\n",
    "print(\"time\", end - start)"
   ]
  }
 ],
 "metadata": {
  "kernelspec": {
   "display_name": "Python 3",
   "language": "python",
   "name": "python3"
  },
  "language_info": {
   "codemirror_mode": {
    "name": "ipython",
    "version": 3
   },
   "file_extension": ".py",
   "mimetype": "text/x-python",
   "name": "python",
   "nbconvert_exporter": "python",
   "pygments_lexer": "ipython3",
   "version": "3.8.13"
  }
 },
 "nbformat": 4,
 "nbformat_minor": 5
}
