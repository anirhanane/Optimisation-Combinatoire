{
 "cells": [
  {
   "cell_type": "code",
   "execution_count": 9,
   "id": "5f39fc1c",
   "metadata": {},
   "outputs": [],
   "source": [
    "import pandas as pd\n",
    "import numpy as np\n",
    "import os"
   ]
  },
  {
   "cell_type": "code",
   "execution_count": 10,
   "id": "68a4d9ac",
   "metadata": {},
   "outputs": [],
   "source": [
    "class TreeNode:\n",
    "    def __init__(self, level, V, W, taken):\n",
    "        self.level = level # niveau dans l’arbre de recherche >=0\n",
    "        self.V = V # valeur de la solution courante\n",
    "        self.W = W # poids de la solution courante\n",
    "        self.taken = taken # liste des index d’objets de la solution courante\n",
    "    def __str__(self):\n",
    "        return str((self.level, self.V, self.W, self.taken))"
   ]
  },
  {
   "cell_type": "code",
   "execution_count": 11,
   "id": "e0732568",
   "metadata": {},
   "outputs": [],
   "source": [
    "class KPBB:\n",
    "    def __init__(self, cap, values, weights): # Initialisation des données\n",
    "        self.capacity = cap\n",
    "        self.values = values\n",
    "        self.weights = weights\n",
    "        self.unordered = [((v, w), i) for i, (v, w) in  enumerate(zip(self.values, self.weights))]\n",
    "        self.ordered = sorted([((v, w), i) for i, (v, w) in  enumerate(zip(self.values, self.weights))] , key = lambda tup: float(tup[0][0])/tup[0][1], reverse = True)\n",
    "    \n",
    "    def initialSolution(self): # calcul de la solution initiale\n",
    "        E=0\n",
    "        capInit=0\n",
    "        sacInit=[]\n",
    "        \n",
    "        for i in range(len(self.weights)):\n",
    "            if capInit+self.weights[i]>self.capacity:\n",
    "                i=i+1\n",
    "            else: \n",
    "                E=E+self.values[i]\n",
    "                sacInit.append(i+1)\n",
    "                capInit=capInit+self.weights[i]\n",
    "                #i=i+1\n",
    "        node=TreeNode(0,E,capInit,sacInit)                 \n",
    "        return E,sacInit,capInit,node\n",
    "    def complete(self,sac):\n",
    "        complete=True\n",
    "        #print(sac)\n",
    "        for i in range(len(sac)):\n",
    "            if sac[i][1]!=1:\n",
    "                complete=False\n",
    "                break\n",
    "        return complete\n",
    "    def nodeEvaluation(self,level,IndexesP): # fonction d’évaluation d’un noeud\n",
    "        ENode=0\n",
    "        capNode=0\n",
    "        sacNode=[]\n",
    "        for el in range(len(IndexesP)):\n",
    "            if IndexesP[el]==1:\n",
    "                sacNode.append((el+1,1))\n",
    "        #print('sacNode:',sacNode)\n",
    "        if level==0:\n",
    "            for i in range(len(self.ordered)):\n",
    "                if capNode+self.ordered[i][0][1]>self.capacity:\n",
    "                    remaincap=self.capacity-capNode\n",
    "                    coef=remaincap/self.ordered[i][0][1]\n",
    "                    if coef==0 :\n",
    "                        break\n",
    "                        \n",
    "                    capNode=self.capacity\n",
    "                    sacNode.append((self.ordered[i][1]+1,coef))\n",
    "                    ENode=ENode+(self.ordered[i][0][0]*coef)\n",
    "                else: \n",
    "                    ENode=ENode+self.ordered[i][0][0]\n",
    "                    sacNode.append((self.ordered[i][1]+1,1))\n",
    "                    capNode=capNode+self.ordered[i][0][1]\n",
    "                    i=i+1\n",
    "\n",
    "            node=TreeNode(level,ENode,capNode,sacNode)\n",
    "        else:\n",
    "            for idx in range(len(IndexesP)):\n",
    "                if IndexesP[idx]==1:\n",
    "                    capNode=capNode+self.weights[idx]\n",
    "                    ENode=ENode+self.values[idx]\n",
    "            #print('capNode:',capNode)\n",
    "            #print('ENode:',ENode)\n",
    "            for i in range(len(self.ordered)):\n",
    "                #print('self.ordered[i]:',self.ordered[i])\n",
    "                if IndexesP[self.ordered[i][1]]==0:\n",
    "                    if capNode+self.ordered[i][0][1]>self.capacity:\n",
    "                        remaincap=self.capacity-capNode\n",
    "                        coef=remaincap/self.ordered[i][0][1]\n",
    "                        if coef==0 :\n",
    "                            break\n",
    "                        capNode=self.capacity\n",
    "                        sacNode.append((self.ordered[i][1]+1,coef))\n",
    "                        ENode=ENode+(self.ordered[i][0][0]*coef)\n",
    "                    else: \n",
    "                        ENode=ENode+self.ordered[i][0][0]\n",
    "                        sacNode.append((self.ordered[i][1]+1,1))\n",
    "                        capNode=capNode+self.ordered[i][0][1]\n",
    "                        i=i+1\n",
    "            node=TreeNode(level,ENode,capNode,sacNode)   \n",
    "        \n",
    "        return node,self.complete(node.taken)\n",
    "    def recursolveP(self,level,node,Arbre,LB,Index):\n",
    "        while level < len(node.taken):\n",
    "            level=level+1\n",
    "            IndexR=Index\n",
    "            IndexR[level-1]=1\n",
    "            nodeR,completeR=self.nodeEvaluation(level, IndexR)\n",
    "            if (completeR==True and nodeR.V>max(LB)):\n",
    "                LB.append(nodeR.V)\n",
    "            Arbre.append(nodeR)\n",
    "            self.recursolve(level,nodeR,Arbre,LB,IndexR)\n",
    "            IndexL=Index\n",
    "            IndexL[level-1]=-1\n",
    "            nodeL,completeL=self.nodeEvaluation(level, IndexL)\n",
    "            if (completeL==True and nodeL.V>max(LB)):\n",
    "                LB.append(nodeL.V)\n",
    "            self.recursolve(level,nodeL,Arbre,LB,IndexL)\n",
    "            Arbre.append(nodeL)\n",
    "            \n",
    "        return Arbre,LB\n",
    "    def recursolveD(self,level,node,Arbre,LB,Index,SolSac):\n",
    "        #while level < len(node.taken):\n",
    "                level=level+1\n",
    "                IndexR=Index\n",
    "                IndexR[level-1]=1\n",
    "                #print('Index partie R',IndexR)\n",
    "                cap=0\n",
    "                for el in range(len(IndexR)):\n",
    "                    if IndexR[el]==1:\n",
    "                        cap=cap+self.weights[el]\n",
    "                if cap<=self.capacity:                   \n",
    "                    nodeR,completeR=self.nodeEvaluation(level, IndexR)\n",
    "                    Arbre.append(nodeR)\n",
    "                    #print('nodeR',nodeR)\n",
    "                    if (completeR==True and nodeR.V>max(LB)):\n",
    "                        LB.append(nodeR.V)\n",
    "                        SolSac.append(nodeR.taken)\n",
    "                    if nodeR.V>max(LB):\n",
    "                        self.recursolveD(level,nodeR,Arbre,LB,IndexR,SolSac)\n",
    "\n",
    "                IndexL=Index\n",
    "                IndexL[level-1]=-1\n",
    "                IndexL[level:]=0\n",
    "                #print('Index partie Left',IndexL)\n",
    "                \n",
    "                cap=0\n",
    "                for el in range(len(IndexL)):\n",
    "                    if IndexL[el]==1:\n",
    "                        cap=cap+self.weights[el]\n",
    "                #print('IndexL',IndexL)\n",
    "                #print('level',level)\n",
    "                if cap<=self.capacity:                   \n",
    "                    nodeL,completeL=self.nodeEvaluation(level, IndexL)\n",
    "                    Arbre.append(nodeL)\n",
    "                    #print('nodeL',nodeL)\n",
    "                    if (completeL==True and nodeL.V>max(LB)):\n",
    "                        LB.append(nodeL.V)\n",
    "                        SolSac.append(nodeL.taken)\n",
    "                    if nodeL.V>max(LB):\n",
    "                        self.recursolveD(level,nodeL,Arbre,LB,IndexL,SolSac)\n",
    "                        \n",
    "            \n",
    "                return Arbre,LB\n",
    "    def solve(self): # algorithme de résolution\n",
    "        LB=[]\n",
    "        SolSac=[]\n",
    "        Arbre=[]\n",
    "        EInit,sacInit,capInit,nodeIB=self.initialSolution()\n",
    "        LB.append(EInit)\n",
    "        SolSac.append(sacInit)\n",
    "        IndexI=np.array([0 for i in range(len(self.weights))])\n",
    "        nodeR,complete=self.nodeEvaluation(0, IndexI)\n",
    "        if (complete==True and nodeR.V>max(LB)):\n",
    "                LB.append(nodeR.V)\n",
    "                SolSac.append(nodeR.taken)\n",
    "        Arbre.append(nodeR)\n",
    "        Index=np.array([0 for i in range(len(self.weights))])\n",
    "        self.recursolveD(0,nodeR,Arbre,LB,Index,SolSac)\n",
    "        #print(SolSac)\n",
    "            \n",
    "        \n",
    "        \n",
    "        \n",
    "        return LB,Arbre,max(LB),SolSac[LB.index(max(LB))]"
   ]
  },
  {
   "cell_type": "code",
   "execution_count": 12,
   "id": "763b2482",
   "metadata": {
    "scrolled": true
   },
   "outputs": [],
   "source": [
    "# Données du cours\n",
    "cap=10\n",
    "values=[40,50,100,95,30]\n",
    "weights=[2,3,1,5,3]\n",
    "kbb=KPBB(cap,values,weights)"
   ]
  },
  {
   "cell_type": "code",
   "execution_count": 13,
   "id": "bc0b6fde",
   "metadata": {
    "scrolled": true
   },
   "outputs": [
    {
     "name": "stdout",
     "output_type": "stream",
     "text": [
      "10\n"
     ]
    }
   ],
   "source": [
    "print(kbb.capacity)"
   ]
  },
  {
   "cell_type": "code",
   "execution_count": 14,
   "id": "bc7982c1",
   "metadata": {},
   "outputs": [],
   "source": [
    "EInit,sacInit,capInit,nodeIB=kbb.initialSolution()"
   ]
  },
  {
   "cell_type": "code",
   "execution_count": 15,
   "id": "32adb254",
   "metadata": {},
   "outputs": [
    {
     "name": "stdout",
     "output_type": "stream",
     "text": [
      "220\n",
      "[1, 2, 3, 5]\n",
      "9\n",
      "(0, 220, 9, [1, 2, 3, 5])\n"
     ]
    }
   ],
   "source": [
    "print(EInit)\n",
    "print(sacInit)\n",
    "print(capInit)\n",
    "print(nodeIB)"
   ]
  },
  {
   "cell_type": "code",
   "execution_count": 29,
   "id": "a0c5d54d",
   "metadata": {},
   "outputs": [
    {
     "name": "stdout",
     "output_type": "stream",
     "text": [
      "271 µs ± 23.3 µs per loop (mean ± std. dev. of 7 runs, 1000 loops each)\n"
     ]
    }
   ],
   "source": [
    "%timeit LB,Arbre,Solution,SacSol=kbb.solve()"
   ]
  },
  {
   "cell_type": "code",
   "execution_count": 30,
   "id": "d86e91f9",
   "metadata": {},
   "outputs": [],
   "source": [
    "LB,Arbre,Solution,SacSol=kbb.solve()"
   ]
  },
  {
   "cell_type": "code",
   "execution_count": 31,
   "id": "b9b2d0fe",
   "metadata": {},
   "outputs": [
    {
     "data": {
      "text/plain": [
       "[220, 235, 245]"
      ]
     },
     "execution_count": 31,
     "metadata": {},
     "output_type": "execute_result"
    }
   ],
   "source": [
    "LB"
   ]
  },
  {
   "cell_type": "code",
   "execution_count": 32,
   "id": "3c1fbf1c",
   "metadata": {},
   "outputs": [
    {
     "data": {
      "text/plain": [
       "245"
      ]
     },
     "execution_count": 32,
     "metadata": {},
     "output_type": "execute_result"
    }
   ],
   "source": [
    "Solution"
   ]
  },
  {
   "cell_type": "code",
   "execution_count": 33,
   "id": "e91fa265",
   "metadata": {},
   "outputs": [
    {
     "data": {
      "text/plain": [
       "[(2, 1), (3, 1), (4, 1)]"
      ]
     },
     "execution_count": 33,
     "metadata": {},
     "output_type": "execute_result"
    }
   ],
   "source": [
    "SacSol"
   ]
  },
  {
   "cell_type": "code",
   "execution_count": 40,
   "id": "c473e5e5",
   "metadata": {},
   "outputs": [
    {
     "name": "stdout",
     "output_type": "stream",
     "text": [
      "10\n",
      "10\n"
     ]
    }
   ],
   "source": [
    "cap=269\n",
    "values=[55,10,47,5,4,50,8,61,85,87]\n",
    "print(len(values))\n",
    "weights=[95,4,60,32,23,72,80,62,65,46]\n",
    "print(len(weights))\n",
    "kbb=KPBB(cap,values,weights)"
   ]
  },
  {
   "cell_type": "code",
   "execution_count": 41,
   "id": "87762285",
   "metadata": {},
   "outputs": [
    {
     "name": "stdout",
     "output_type": "stream",
     "text": [
      "2.56 ms ± 205 µs per loop (mean ± std. dev. of 7 runs, 100 loops each)\n"
     ]
    }
   ],
   "source": [
    "%timeit LB,Arbre,Solution,SacSol=kbb.solve()"
   ]
  },
  {
   "cell_type": "code",
   "execution_count": 42,
   "id": "6a15737e",
   "metadata": {},
   "outputs": [],
   "source": [
    "LB,Arbre,Solution,SacSol=kbb.solve()"
   ]
  },
  {
   "cell_type": "code",
   "execution_count": 43,
   "id": "bda9a505",
   "metadata": {},
   "outputs": [
    {
     "data": {
      "text/plain": [
       "[208, 260, 274, 288, 295]"
      ]
     },
     "execution_count": 43,
     "metadata": {},
     "output_type": "execute_result"
    }
   ],
   "source": [
    "LB"
   ]
  },
  {
   "cell_type": "code",
   "execution_count": 44,
   "id": "55e4835b",
   "metadata": {},
   "outputs": [
    {
     "data": {
      "text/plain": [
       "295"
      ]
     },
     "execution_count": 44,
     "metadata": {},
     "output_type": "execute_result"
    }
   ],
   "source": [
    "Solution"
   ]
  },
  {
   "cell_type": "code",
   "execution_count": 45,
   "id": "3b0799d1",
   "metadata": {},
   "outputs": [
    {
     "data": {
      "text/plain": [
       "[(2, 1), (3, 1), (4, 1), (10, 1), (9, 1), (8, 1)]"
      ]
     },
     "execution_count": 45,
     "metadata": {},
     "output_type": "execute_result"
    }
   ],
   "source": [
    "SacSol"
   ]
  },
  {
   "cell_type": "code",
   "execution_count": 46,
   "id": "4bfe12e3",
   "metadata": {},
   "outputs": [
    {
     "name": "stdout",
     "output_type": "stream",
     "text": [
      "20\n",
      "20\n"
     ]
    }
   ],
   "source": [
    "cap=878\n",
    "values=[44,46,90,72,91,40,75,35,8,54,78,40,77,15,61,17,75,29,75,63]\n",
    "print(len(values))\n",
    "weights=[92,4,43,83,84,68,92,82,6,44,32,18,56,83,25,96,70,48,14,58]\n",
    "print(len(weights))\n",
    "kbb=KPBB(cap,values,weights)"
   ]
  },
  {
   "cell_type": "code",
   "execution_count": 47,
   "id": "782f4fd2",
   "metadata": {},
   "outputs": [
    {
     "name": "stdout",
     "output_type": "stream",
     "text": [
      "3.31 ms ± 234 µs per loop (mean ± std. dev. of 7 runs, 100 loops each)\n"
     ]
    }
   ],
   "source": [
    "%timeit LB,Arbre,Solution,SacSol=kbb.solve()"
   ]
  },
  {
   "cell_type": "code",
   "execution_count": 48,
   "id": "85602121",
   "metadata": {},
   "outputs": [],
   "source": [
    "LB,Arbre,Solution,SacSol=kbb.solve()"
   ]
  },
  {
   "cell_type": "code",
   "execution_count": 49,
   "id": "3e41493e",
   "metadata": {},
   "outputs": [
    {
     "data": {
      "text/plain": [
       "[930, 990, 1024]"
      ]
     },
     "execution_count": 49,
     "metadata": {},
     "output_type": "execute_result"
    }
   ],
   "source": [
    "LB"
   ]
  },
  {
   "cell_type": "code",
   "execution_count": 50,
   "id": "77487bac",
   "metadata": {},
   "outputs": [
    {
     "data": {
      "text/plain": [
       "1024"
      ]
     },
     "execution_count": 50,
     "metadata": {},
     "output_type": "execute_result"
    }
   ],
   "source": [
    "Solution"
   ]
  },
  {
   "cell_type": "code",
   "execution_count": 51,
   "id": "fb01865e",
   "metadata": {},
   "outputs": [
    {
     "data": {
      "text/plain": [
       "[(1, 1),\n",
       " (2, 1),\n",
       " (3, 1),\n",
       " (4, 1),\n",
       " (5, 1),\n",
       " (6, 1),\n",
       " (7, 1),\n",
       " (8, 1),\n",
       " (9, 1),\n",
       " (10, 1),\n",
       " (11, 1),\n",
       " (12, 1),\n",
       " (13, 1),\n",
       " (15, 1),\n",
       " (17, 1),\n",
       " (19, 1),\n",
       " (20, 1)]"
      ]
     },
     "execution_count": 51,
     "metadata": {},
     "output_type": "execute_result"
    }
   ],
   "source": [
    "SacSol"
   ]
  },
  {
   "cell_type": "code",
   "execution_count": 52,
   "id": "f8a48dd0",
   "metadata": {},
   "outputs": [],
   "source": [
    "def chargement_fichier(chemin):\n",
    "    data = pd.read_csv(chemin)\n",
    "    cap=int(data.columns[0].split()[1])\n",
    "    data = pd.read_csv(chemin, header=None, names=(['v','w']),sep=\" \")\n",
    "    v=data.v.values\n",
    "    w=data.w.values\n",
    "    return cap,v,w"
   ]
  },
  {
   "cell_type": "code",
   "execution_count": 73,
   "id": "944261f0",
   "metadata": {},
   "outputs": [],
   "source": [
    "cap,values,weights=chargement_fichier(r\"C:\\\\Users\\\\surfaC\\\\Desktop\\\\Master SID\\\\Optimisation Combinatoire\\\\TP\\\\TP4\\\\dataKnapsack\\\\large_scale\\\\knapPI_1_100_1000_1\")"
   ]
  },
  {
   "cell_type": "code",
   "execution_count": 74,
   "id": "770121a3",
   "metadata": {},
   "outputs": [
    {
     "data": {
      "text/plain": [
       "array([995, 485, 326, 248, 421, 322, 795,  43, 845, 955, 252,   9, 901,\n",
       "       122,  94, 738, 574, 715, 882, 367, 984, 299, 433, 682,  72, 874,\n",
       "       138, 856, 145, 995, 529, 199, 277,  97, 719, 242, 107, 122,  70,\n",
       "        98, 600, 645, 267, 972, 895, 213, 748, 487, 923,  29, 674, 540,\n",
       "       554, 467,  46, 710, 553, 191, 724, 730, 988,  90, 340, 549, 196,\n",
       "       865, 678, 570, 936, 722, 651, 123, 431, 508, 585, 853, 642, 992,\n",
       "       725, 286, 812, 859, 663,  88, 179, 187, 619, 261, 846, 192, 261,\n",
       "       514, 886, 530, 849, 294, 799, 391, 330, 298, 790], dtype=int64)"
      ]
     },
     "execution_count": 74,
     "metadata": {},
     "output_type": "execute_result"
    }
   ],
   "source": [
    "weights"
   ]
  },
  {
   "cell_type": "code",
   "execution_count": 75,
   "id": "c12cf8ef",
   "metadata": {},
   "outputs": [],
   "source": [
    "kbb=KPBB(cap,values,weights)"
   ]
  },
  {
   "cell_type": "code",
   "execution_count": 76,
   "id": "c4cc95e6",
   "metadata": {},
   "outputs": [
    {
     "name": "stdout",
     "output_type": "stream",
     "text": [
      "1.33 s ± 57.6 ms per loop (mean ± std. dev. of 7 runs, 1 loop each)\n"
     ]
    }
   ],
   "source": [
    "%timeit LB,Arbre,Solution,SacSol=kbb.solve()"
   ]
  },
  {
   "cell_type": "code",
   "execution_count": 77,
   "id": "b706b6c2",
   "metadata": {},
   "outputs": [],
   "source": [
    "LB,Arbre,Solution,SacSol=kbb.solve()"
   ]
  },
  {
   "cell_type": "code",
   "execution_count": 78,
   "id": "72a0cd6b",
   "metadata": {},
   "outputs": [
    {
     "data": {
      "text/plain": [
       "[100,\n",
       " 2515,\n",
       " 3170,\n",
       " 3272,\n",
       " 3480,\n",
       " 3503,\n",
       " 3746,\n",
       " 3790,\n",
       " 4011,\n",
       " 4090,\n",
       " 4113,\n",
       " 4321,\n",
       " 4505,\n",
       " 4905,\n",
       " 5146,\n",
       " 5603,\n",
       " 5811,\n",
       " 5913,\n",
       " 6013,\n",
       " 6120,\n",
       " 6131,\n",
       " 6187,\n",
       " 6233,\n",
       " 6343,\n",
       " 6417,\n",
       " 6432,\n",
       " 6866,\n",
       " 6889,\n",
       " 7048,\n",
       " 7082,\n",
       " 7097,\n",
       " 7108,\n",
       " 7199,\n",
       " 7210,\n",
       " 7306,\n",
       " 7551,\n",
       " 7625,\n",
       " 7782,\n",
       " 7807,\n",
       " 7835,\n",
       " 7909,\n",
       " 7935,\n",
       " 7968,\n",
       " 8109,\n",
       " 8279,\n",
       " 8436,\n",
       " 8510,\n",
       " 8556,\n",
       " 8586,\n",
       " 8745,\n",
       " 8817,\n",
       " 8940,\n",
       " 8990,\n",
       " 9147]"
      ]
     },
     "execution_count": 78,
     "metadata": {},
     "output_type": "execute_result"
    }
   ],
   "source": [
    "LB"
   ]
  },
  {
   "cell_type": "code",
   "execution_count": 79,
   "id": "f3bf5fd3",
   "metadata": {},
   "outputs": [
    {
     "data": {
      "text/plain": [
       "9147"
      ]
     },
     "execution_count": 79,
     "metadata": {},
     "output_type": "execute_result"
    }
   ],
   "source": [
    "Solution"
   ]
  },
  {
   "cell_type": "code",
   "execution_count": 80,
   "id": "c12118dc",
   "metadata": {
    "scrolled": false
   },
   "outputs": [
    {
     "data": {
      "text/plain": [
       "[(8, 1),\n",
       " (12, 1),\n",
       " (15, 1),\n",
       " (25, 1),\n",
       " (27, 1),\n",
       " (32, 1),\n",
       " (34, 1),\n",
       " (39, 1),\n",
       " (40, 1),\n",
       " (50, 1),\n",
       " (55, 1),\n",
       " (62, 1)]"
      ]
     },
     "execution_count": 80,
     "metadata": {},
     "output_type": "execute_result"
    }
   ],
   "source": [
    "SacSol"
   ]
  },
  {
   "cell_type": "code",
   "execution_count": 85,
   "id": "57241f9a",
   "metadata": {},
   "outputs": [],
   "source": [
    "cap,values,weights=chargement_fichier(r\"C:\\\\Users\\\\surfaC\\\\Desktop\\\\Master SID\\\\Optimisation Combinatoire\\\\TP\\\\TP4\\\\dataKnapsack\\\\large_scale\\\\knapPI_3_200_1000_1\")"
   ]
  },
  {
   "cell_type": "code",
   "execution_count": 86,
   "id": "770121a3",
   "metadata": {},
   "outputs": [
    {
     "data": {
      "text/plain": [
       "array([997, 485,  94, 326, 506, 248, 416, 421, 992, 322, 649, 795, 237,\n",
       "        43, 457, 845, 815, 955, 446, 252, 422,   9, 791, 901, 359, 122,\n",
       "       667,  94, 598, 738,   7, 574, 544, 715, 334, 882, 766, 367, 994,\n",
       "       984, 893, 299, 633, 433, 131, 682, 428,  72, 700, 874, 617, 138,\n",
       "       874, 856, 720, 145, 419, 995, 794, 529, 196, 199, 997, 277, 116,\n",
       "        97, 908, 719, 539, 242, 707, 107, 569, 122, 537,  70, 931,  98,\n",
       "       726, 600, 487, 645, 772, 267, 513, 972,  81, 895, 943, 213,  58,\n",
       "       748, 303, 487, 764, 923, 536,  29, 724, 674, 789, 540, 479, 554,\n",
       "       142, 467, 339,  46, 641, 710, 196, 553, 494, 191,  66, 724, 824,\n",
       "       730, 208, 988, 711,  90, 800, 340, 314, 549, 289, 196, 401, 865,\n",
       "       466, 678, 689, 570, 833, 936, 225, 722, 244, 651, 849, 123, 113,\n",
       "       431, 379, 508, 361, 585,  65, 853, 486, 642, 686, 992, 286, 725,\n",
       "       889, 286,  24, 812, 491, 859, 891, 663,  90,  88, 181, 179, 214,\n",
       "       187,  17, 619, 472, 261, 418, 846, 419, 192, 356, 261, 682, 514,\n",
       "       306, 886, 201, 530, 385, 849, 952, 294, 500, 799, 194, 391, 737,\n",
       "       330, 324, 298, 992, 790, 224], dtype=int64)"
      ]
     },
     "execution_count": 86,
     "metadata": {},
     "output_type": "execute_result"
    }
   ],
   "source": [
    "weights"
   ]
  },
  {
   "cell_type": "code",
   "execution_count": 87,
   "id": "c12cf8ef",
   "metadata": {},
   "outputs": [],
   "source": [
    "kbb=KPBB(cap,values,weights)"
   ]
  },
  {
   "cell_type": "code",
   "execution_count": 88,
   "id": "c4cc95e6",
   "metadata": {},
   "outputs": [
    {
     "name": "stdout",
     "output_type": "stream",
     "text": [
      "2min 39s ± 12.9 s per loop (mean ± std. dev. of 7 runs, 1 loop each)\n"
     ]
    }
   ],
   "source": [
    "%timeit LB,Arbre,Solution,SacSol=kbb.solve()"
   ]
  },
  {
   "cell_type": "code",
   "execution_count": 89,
   "id": "144126a9",
   "metadata": {},
   "outputs": [],
   "source": [
    "LB,Arbre,Solution,SacSol=kbb.solve()"
   ]
  },
  {
   "cell_type": "code",
   "execution_count": 90,
   "id": "9ae77c5c",
   "metadata": {},
   "outputs": [
    {
     "data": {
      "text/plain": [
       "[200,\n",
       " 1693,\n",
       " 1696,\n",
       " 1791,\n",
       " 1797,\n",
       " 1897,\n",
       " 1991,\n",
       " 2096,\n",
       " 2097,\n",
       " 2190,\n",
       " 2197,\n",
       " 2291,\n",
       " 2292,\n",
       " 2294,\n",
       " 2295,\n",
       " 2297,\n",
       " 2383,\n",
       " 2390,\n",
       " 2394,\n",
       " 2396,\n",
       " 2397,\n",
       " 2494,\n",
       " 2497,\n",
       " 2597,\n",
       " 2694,\n",
       " 2695,\n",
       " 2696,\n",
       " 2697]"
      ]
     },
     "execution_count": 90,
     "metadata": {},
     "output_type": "execute_result"
    }
   ],
   "source": [
    "LB"
   ]
  },
  {
   "cell_type": "code",
   "execution_count": 91,
   "id": "0bbbbf3f",
   "metadata": {},
   "outputs": [
    {
     "data": {
      "text/plain": [
       "2697"
      ]
     },
     "execution_count": 91,
     "metadata": {},
     "output_type": "execute_result"
    }
   ],
   "source": [
    "Solution"
   ]
  },
  {
   "cell_type": "code",
   "execution_count": 92,
   "id": "0076caab",
   "metadata": {
    "scrolled": false
   },
   "outputs": [
    {
     "data": {
      "text/plain": [
       "[(3, 1),\n",
       " (14, 1),\n",
       " (22, 1),\n",
       " (26, 1),\n",
       " (31, 1),\n",
       " (48, 1),\n",
       " (66, 1),\n",
       " (76, 1),\n",
       " (171, 1),\n",
       " (159, 1),\n",
       " (98, 1),\n",
       " (108, 1),\n",
       " (91, 1),\n",
       " (149, 1),\n",
       " (115, 1),\n",
       " (166, 1),\n",
       " (122, 1)]"
      ]
     },
     "execution_count": 92,
     "metadata": {},
     "output_type": "execute_result"
    }
   ],
   "source": [
    "SacSol"
   ]
  },
  {
   "cell_type": "code",
   "execution_count": null,
   "id": "78129ba5",
   "metadata": {},
   "outputs": [],
   "source": []
  }
 ],
 "metadata": {
  "kernelspec": {
   "display_name": "Python 3",
   "language": "python",
   "name": "python3"
  },
  "language_info": {
   "codemirror_mode": {
    "name": "ipython",
    "version": 3
   },
   "file_extension": ".py",
   "mimetype": "text/x-python",
   "name": "python",
   "nbconvert_exporter": "python",
   "pygments_lexer": "ipython3",
   "version": "3.8.8"
  }
 },
 "nbformat": 4,
 "nbformat_minor": 5
}
