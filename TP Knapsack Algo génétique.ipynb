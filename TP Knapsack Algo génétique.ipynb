{
 "cells": [
  {
   "cell_type": "code",
   "execution_count": 8,
   "id": "71fa2a50",
   "metadata": {},
   "outputs": [],
   "source": [
    "import numpy as np\n",
    "import random\n",
    "import math\n",
    "from operator import itemgetter\n",
    "import pandas as pd\n",
    "import sys\n",
    "import operator\n",
    "import time"
   ]
  },
  {
   "cell_type": "code",
   "execution_count": 5,
   "id": "71e4782f",
   "metadata": {},
   "outputs": [],
   "source": [
    "class KPGA:\n",
    "    def __init__(self, cap, values, weights,P,maxGen): # Initialisation des données\n",
    "        self.capacity = cap\n",
    "        self.values = values\n",
    "        self.weights = weights\n",
    "        self.parents = []\n",
    "        self.newparents = []\n",
    "        self.meilleurs = []\n",
    "        self.meilleurs_p = [] \n",
    "        self.maxGen = maxGen\n",
    "        self.population = P\n",
    "\n",
    "    \n",
    "    # création de la population initiale\n",
    "    def initialisation(self):\n",
    "\n",
    "        for i in range(self.population):\n",
    "            parent = []\n",
    "            for k in range(0, len(self.weights)):\n",
    "                k = random.randint(0, 1)\n",
    "                parent.append(k)\n",
    "            self.parents.append(parent)\n",
    "    \n",
    "    def calcul_fitness(self,sac):\n",
    "        E=0\n",
    "        cap=0\n",
    "        for i in range(len(sac)):\n",
    "            if sac[i]==1:\n",
    "                E=E+self.values[i]\n",
    "                cap=cap+self.weights[i]\n",
    "        # si la valeur est supérieure à la capacité définie \n",
    "        # alors on retoure -1 sinon on retourne\n",
    "        if cap > self.capacity:\n",
    "            return -1\n",
    "        else: \n",
    "            return E\n",
    "    def evaluation(self):\n",
    "        paire_parent = self.population // 2\n",
    "        for i in range(len(self.parents)):\n",
    "            parent = self.parents[i]\n",
    "            ft = self.calcul_fitness(parent)\n",
    "            self.meilleurs.append((ft, parent))\n",
    "        self.meilleurs.sort(key=operator.itemgetter(0), reverse=True)\n",
    "        #print(self.meilleurs)\n",
    "        self.meilleurs_p = self.meilleurs[:paire_parent]\n",
    "        self.meilleurs_p = [x[1] for x in self.meilleurs_p]\n",
    "\n",
    "    def mutation(self, enfant):\n",
    "\n",
    "        for i in range(len(enfant)):\n",
    "            k = random.uniform(0, 1)\n",
    "            if k > 0.5:\n",
    "                if enfant[i] == 1:\n",
    "                    enfant[i] = 0\n",
    "                else: \n",
    "                    enfant[i] = 1\n",
    "        return enfant\n",
    " \n",
    "    def crossover(self, p1, p2):\n",
    "\n",
    "        threshold = random.randint(1, len(p1)-1)\n",
    "        tmp1 = p1[threshold:]\n",
    "        tmp2 = p2[threshold:]\n",
    "        p1 = p1[:threshold]\n",
    "        p2 = p2[:threshold]\n",
    "        p1.extend(tmp2)\n",
    "        p2.extend(tmp1)\n",
    "\n",
    "        return p1, p2\n",
    "    def new_Generation(self):\n",
    "        self.evaluation()\n",
    "        newparents = []\n",
    "        pop = len(self.meilleurs_p)-1\n",
    "\n",
    "        sample = random.sample(range(pop), pop)\n",
    "        for i in range(0, pop):\n",
    "            # selectionner un index aléatoire du meilleur parents pour rendre le process aléatoire\n",
    "            if i < pop-1:\n",
    "                r1 = self.meilleurs_p[i]\n",
    "                r2 = self.meilleurs_p[i+1]\n",
    "                nenfant1, nenfant2 = self.crossover(r1, r2)\n",
    "                newparents.append(nenfant1)\n",
    "                newparents.append(nenfant2)\n",
    "            else:\n",
    "                r1 = self.meilleurs_p[i]\n",
    "                r2 = self.meilleurs_p[0]\n",
    "                nenfant1, nenfant2 = self.crossover(r1, r2)\n",
    "                newparents.append(nenfant1)\n",
    "                newparents.append(nenfant2)\n",
    "\n",
    "        # mutation\n",
    "        for i in range(len(newparents)):\n",
    "            newparents[i] = self.mutation(newparents[i])\n",
    "        self.newparents=newparents\n",
    "\n",
    "    def solveKsack_GA(self):\n",
    "        for i in range(self.maxGen):\n",
    "            #print(\"création d'une nouvelle génération pour la {} fois\" .format(i))\n",
    "            if i!=0:\n",
    "                self.parents = self.newparents\n",
    "            self.meilleurs = []\n",
    "            self.meilleurs_p = []\n",
    "            self.new_Generation()\n",
    "        #print(self.newparents)\n",
    "        self.parents = self.newparents\n",
    "        #print(self.parents)\n",
    "        self.evaluation()\n",
    "        sol=self.meilleurs_p\n",
    "        #print(sol)\n",
    "        return sol[0],self.calcul_fitness(sol[0])"
   ]
  },
  {
   "cell_type": "code",
   "execution_count": 6,
   "id": "bd8ef7c5",
   "metadata": {},
   "outputs": [],
   "source": [
    "P=30\n",
    "maxGen=60"
   ]
  },
  {
   "cell_type": "code",
   "execution_count": 7,
   "id": "20877ef6",
   "metadata": {},
   "outputs": [],
   "source": [
    "cap=10\n",
    "values=[40,50,100,95,30]\n",
    "weights=[2,3,1,5,3]\n",
    "kga=KPGA(cap,values,weights,P,maxGen)"
   ]
  },
  {
   "cell_type": "code",
   "execution_count": 10,
   "id": "11bcf347",
   "metadata": {},
   "outputs": [
    {
     "name": "stdout",
     "output_type": "stream",
     "text": [
      "([0, 1, 1, 1, 0], 245)\n",
      "time 0.42999696731567383\n"
     ]
    }
   ],
   "source": [
    "start = time.time()\n",
    "maxiter=20\n",
    "solutions=[]\n",
    "for i in range(maxiter):\n",
    "    kga.initialisation()\n",
    "    sol,f=kga.solveKsack_GA()\n",
    "    #print(sol,\" \",f)\n",
    "    solutions.append((sol,f))\n",
    "#print(solutions)\n",
    "solutions.sort(key=operator.itemgetter(1), reverse=True)\n",
    "print(solutions[0])\n",
    "end = time.time()\n",
    "\n",
    "print(\"time\", end - start)"
   ]
  },
  {
   "cell_type": "code",
   "execution_count": 19,
   "id": "52f35a20",
   "metadata": {},
   "outputs": [],
   "source": [
    "def chargement_fichier(chemin):\n",
    "    data = pd.read_csv(chemin)\n",
    "    cap=int(data.columns[0].split()[1])\n",
    "    data = pd.read_csv(chemin, header=None, names=(['v','w']),sep=\" \")\n",
    "    v=data.v.values\n",
    "    w=data.w.values\n",
    "    return cap,v,w"
   ]
  },
  {
   "cell_type": "code",
   "execution_count": 21,
   "id": "4654158a",
   "metadata": {},
   "outputs": [],
   "source": [
    "cap,values,weights=chargement_fichier(r\"C:\\\\Users\\\\surfaC\\\\Desktop\\\\Master SID\\\\Optimisation Combinatoire\\\\TP\\\\TP4\\\\dataKnapsack\\\\large_scale\\\\knapPI_1_100_1000_1\")"
   ]
  },
  {
   "cell_type": "code",
   "execution_count": 22,
   "id": "0e8b52d4",
   "metadata": {},
   "outputs": [
    {
     "name": "stdout",
     "output_type": "stream",
     "text": [
      "cap: 995\n",
      "values: [100  94 506 416 992 649 237 457 815 446 422 791 359 667 598   7 544 334\n",
      " 766 994 893 633 131 428 700 617 874 720 419 794 196 997 116 908 539 707\n",
      " 569 537 931 726 487 772 513  81 943  58 303 764 536 724 789 479 142 339\n",
      " 641 196 494  66 824 208 711 800 314 289 401 466 689 833 225 244 849 113\n",
      " 379 361  65 486 686 286 889  24 491 891  90 181 214  17 472 418 419 356\n",
      " 682 306 201 385 952 500 194 737 324 992 224]\n",
      "weights: [995 485 326 248 421 322 795  43 845 955 252   9 901 122  94 738 574 715\n",
      " 882 367 984 299 433 682  72 874 138 856 145 995 529 199 277  97 719 242\n",
      " 107 122  70  98 600 645 267 972 895 213 748 487 923  29 674 540 554 467\n",
      "  46 710 553 191 724 730 988  90 340 549 196 865 678 570 936 722 651 123\n",
      " 431 508 585 853 642 992 725 286 812 859 663  88 179 187 619 261 846 192\n",
      " 261 514 886 530 849 294 799 391 330 298 790]\n"
     ]
    }
   ],
   "source": [
    "print('cap:',cap)\n",
    "print('values:',values)\n",
    "print('weights:',weights)"
   ]
  },
  {
   "cell_type": "code",
   "execution_count": 25,
   "id": "a427f121",
   "metadata": {},
   "outputs": [],
   "source": [
    "P=100\n",
    "maxGen=200\n",
    "kga=KPGA(cap,values,weights,P,maxGen)"
   ]
  },
  {
   "cell_type": "code",
   "execution_count": 26,
   "id": "2aff871d",
   "metadata": {},
   "outputs": [
    {
     "ename": "KeyboardInterrupt",
     "evalue": "",
     "output_type": "error",
     "traceback": [
      "\u001b[1;31m---------------------------------------------------------------------------\u001b[0m",
      "\u001b[1;31mKeyboardInterrupt\u001b[0m                         Traceback (most recent call last)",
      "\u001b[1;32m<ipython-input-26-3b3d584243ee>\u001b[0m in \u001b[0;36m<module>\u001b[1;34m\u001b[0m\n\u001b[0;32m      4\u001b[0m \u001b[1;32mfor\u001b[0m \u001b[0mi\u001b[0m \u001b[1;32min\u001b[0m \u001b[0mrange\u001b[0m\u001b[1;33m(\u001b[0m\u001b[0mmaxiter\u001b[0m\u001b[1;33m)\u001b[0m\u001b[1;33m:\u001b[0m\u001b[1;33m\u001b[0m\u001b[1;33m\u001b[0m\u001b[0m\n\u001b[0;32m      5\u001b[0m     \u001b[0mkga\u001b[0m\u001b[1;33m.\u001b[0m\u001b[0minitialisation\u001b[0m\u001b[1;33m(\u001b[0m\u001b[1;33m)\u001b[0m\u001b[1;33m\u001b[0m\u001b[1;33m\u001b[0m\u001b[0m\n\u001b[1;32m----> 6\u001b[1;33m     \u001b[0msol\u001b[0m\u001b[1;33m,\u001b[0m\u001b[0mf\u001b[0m\u001b[1;33m=\u001b[0m\u001b[0mkga\u001b[0m\u001b[1;33m.\u001b[0m\u001b[0msolveKsack_GA\u001b[0m\u001b[1;33m(\u001b[0m\u001b[1;33m)\u001b[0m\u001b[1;33m\u001b[0m\u001b[1;33m\u001b[0m\u001b[0m\n\u001b[0m\u001b[0;32m      7\u001b[0m     \u001b[1;31m#print(sol,\" \",f)\u001b[0m\u001b[1;33m\u001b[0m\u001b[1;33m\u001b[0m\u001b[1;33m\u001b[0m\u001b[0m\n\u001b[0;32m      8\u001b[0m     \u001b[0msolutions\u001b[0m\u001b[1;33m.\u001b[0m\u001b[0mappend\u001b[0m\u001b[1;33m(\u001b[0m\u001b[1;33m(\u001b[0m\u001b[0msol\u001b[0m\u001b[1;33m,\u001b[0m\u001b[0mf\u001b[0m\u001b[1;33m)\u001b[0m\u001b[1;33m)\u001b[0m\u001b[1;33m\u001b[0m\u001b[1;33m\u001b[0m\u001b[0m\n",
      "\u001b[1;32m<ipython-input-5-51af23cc644f>\u001b[0m in \u001b[0;36msolveKsack_GA\u001b[1;34m(self)\u001b[0m\n\u001b[0;32m    101\u001b[0m             \u001b[0mself\u001b[0m\u001b[1;33m.\u001b[0m\u001b[0mmeilleurs\u001b[0m \u001b[1;33m=\u001b[0m \u001b[1;33m[\u001b[0m\u001b[1;33m]\u001b[0m\u001b[1;33m\u001b[0m\u001b[1;33m\u001b[0m\u001b[0m\n\u001b[0;32m    102\u001b[0m             \u001b[0mself\u001b[0m\u001b[1;33m.\u001b[0m\u001b[0mmeilleurs_p\u001b[0m \u001b[1;33m=\u001b[0m \u001b[1;33m[\u001b[0m\u001b[1;33m]\u001b[0m\u001b[1;33m\u001b[0m\u001b[1;33m\u001b[0m\u001b[0m\n\u001b[1;32m--> 103\u001b[1;33m             \u001b[0mself\u001b[0m\u001b[1;33m.\u001b[0m\u001b[0mnew_Generation\u001b[0m\u001b[1;33m(\u001b[0m\u001b[1;33m)\u001b[0m\u001b[1;33m\u001b[0m\u001b[1;33m\u001b[0m\u001b[0m\n\u001b[0m\u001b[0;32m    104\u001b[0m         \u001b[1;31m#print(self.newparents)\u001b[0m\u001b[1;33m\u001b[0m\u001b[1;33m\u001b[0m\u001b[1;33m\u001b[0m\u001b[0m\n\u001b[0;32m    105\u001b[0m         \u001b[0mself\u001b[0m\u001b[1;33m.\u001b[0m\u001b[0mparents\u001b[0m \u001b[1;33m=\u001b[0m \u001b[0mself\u001b[0m\u001b[1;33m.\u001b[0m\u001b[0mnewparents\u001b[0m\u001b[1;33m\u001b[0m\u001b[1;33m\u001b[0m\u001b[0m\n",
      "\u001b[1;32m<ipython-input-5-51af23cc644f>\u001b[0m in \u001b[0;36mnew_Generation\u001b[1;34m(self)\u001b[0m\n\u001b[0;32m     91\u001b[0m         \u001b[1;31m# mutation\u001b[0m\u001b[1;33m\u001b[0m\u001b[1;33m\u001b[0m\u001b[1;33m\u001b[0m\u001b[0m\n\u001b[0;32m     92\u001b[0m         \u001b[1;32mfor\u001b[0m \u001b[0mi\u001b[0m \u001b[1;32min\u001b[0m \u001b[0mrange\u001b[0m\u001b[1;33m(\u001b[0m\u001b[0mlen\u001b[0m\u001b[1;33m(\u001b[0m\u001b[0mnewparents\u001b[0m\u001b[1;33m)\u001b[0m\u001b[1;33m)\u001b[0m\u001b[1;33m:\u001b[0m\u001b[1;33m\u001b[0m\u001b[1;33m\u001b[0m\u001b[0m\n\u001b[1;32m---> 93\u001b[1;33m             \u001b[0mnewparents\u001b[0m\u001b[1;33m[\u001b[0m\u001b[0mi\u001b[0m\u001b[1;33m]\u001b[0m \u001b[1;33m=\u001b[0m \u001b[0mself\u001b[0m\u001b[1;33m.\u001b[0m\u001b[0mmutation\u001b[0m\u001b[1;33m(\u001b[0m\u001b[0mnewparents\u001b[0m\u001b[1;33m[\u001b[0m\u001b[0mi\u001b[0m\u001b[1;33m]\u001b[0m\u001b[1;33m)\u001b[0m\u001b[1;33m\u001b[0m\u001b[1;33m\u001b[0m\u001b[0m\n\u001b[0m\u001b[0;32m     94\u001b[0m         \u001b[0mself\u001b[0m\u001b[1;33m.\u001b[0m\u001b[0mnewparents\u001b[0m\u001b[1;33m=\u001b[0m\u001b[0mnewparents\u001b[0m\u001b[1;33m\u001b[0m\u001b[1;33m\u001b[0m\u001b[0m\n\u001b[0;32m     95\u001b[0m \u001b[1;33m\u001b[0m\u001b[0m\n",
      "\u001b[1;32m<ipython-input-5-51af23cc644f>\u001b[0m in \u001b[0;36mmutation\u001b[1;34m(self, enfant)\u001b[0m\n\u001b[0;32m     54\u001b[0m                     \u001b[0menfant\u001b[0m\u001b[1;33m[\u001b[0m\u001b[0mi\u001b[0m\u001b[1;33m]\u001b[0m \u001b[1;33m=\u001b[0m \u001b[1;36m0\u001b[0m\u001b[1;33m\u001b[0m\u001b[1;33m\u001b[0m\u001b[0m\n\u001b[0;32m     55\u001b[0m                 \u001b[1;32melse\u001b[0m\u001b[1;33m:\u001b[0m\u001b[1;33m\u001b[0m\u001b[1;33m\u001b[0m\u001b[0m\n\u001b[1;32m---> 56\u001b[1;33m                     \u001b[0menfant\u001b[0m\u001b[1;33m[\u001b[0m\u001b[0mi\u001b[0m\u001b[1;33m]\u001b[0m \u001b[1;33m=\u001b[0m \u001b[1;36m1\u001b[0m\u001b[1;33m\u001b[0m\u001b[1;33m\u001b[0m\u001b[0m\n\u001b[0m\u001b[0;32m     57\u001b[0m         \u001b[1;32mreturn\u001b[0m \u001b[0menfant\u001b[0m\u001b[1;33m\u001b[0m\u001b[1;33m\u001b[0m\u001b[0m\n\u001b[0;32m     58\u001b[0m \u001b[1;33m\u001b[0m\u001b[0m\n",
      "\u001b[1;31mKeyboardInterrupt\u001b[0m: "
     ]
    }
   ],
   "source": [
    "start = time.time()\n",
    "maxiter=1000\n",
    "solutions=[]\n",
    "for i in range(maxiter):\n",
    "    kga.initialisation()\n",
    "    sol,f=kga.solveKsack_GA()\n",
    "    #print(sol,\" \",f)\n",
    "    solutions.append((sol,f))\n",
    "#print(solutions)\n",
    "solutions.sort(key=operator.itemgetter(1), reverse=True)\n",
    "print(solutions[0])\n",
    "end = time.time()\n",
    "\n",
    "print(\"time\", end - start)"
   ]
  },
  {
   "cell_type": "code",
   "execution_count": null,
   "id": "f43690c3",
   "metadata": {},
   "outputs": [],
   "source": [
    "cap,values,weights=chargement_fichier(r\"C:\\\\Users\\\\surfaC\\\\Desktop\\\\Master SID\\\\Optimisation Combinatoire\\\\TP\\\\TP4\\\\dataKnapsack\\\\large_scale\\\\knapPI_3_200_1000_1\")"
   ]
  },
  {
   "cell_type": "code",
   "execution_count": null,
   "id": "8251a86f",
   "metadata": {},
   "outputs": [],
   "source": [
    "print('cap:',cap)\n",
    "print('values:',values)\n",
    "print('weights:',weights)"
   ]
  },
  {
   "cell_type": "code",
   "execution_count": null,
   "id": "48b245c6",
   "metadata": {},
   "outputs": [],
   "source": [
    "P=100\n",
    "maxGen=300\n",
    "kga=KPGA(cap,values,weights,P,maxGen)"
   ]
  },
  {
   "cell_type": "code",
   "execution_count": null,
   "id": "c05211ba",
   "metadata": {},
   "outputs": [],
   "source": [
    "start = time.time()\n",
    "maxiter=1500\n",
    "solutions=[]\n",
    "for i in range(maxiter):\n",
    "    kga.initialisation()\n",
    "    sol,f=kga.solveKsack_GA()\n",
    "    #print(sol,\" \",f)\n",
    "    solutions.append((sol,f))\n",
    "#print(solutions)\n",
    "solutions.sort(key=operator.itemgetter(1), reverse=True)\n",
    "print(solutions[0])\n",
    "end = time.time()\n",
    "\n",
    "print(\"time\", end - start)"
   ]
  },
  {
   "cell_type": "code",
   "execution_count": 20,
   "id": "fd770d3d",
   "metadata": {},
   "outputs": [
    {
     "name": "stdout",
     "output_type": "stream",
     "text": [
      "20\n",
      "20\n",
      "([1, 1, 1, 1, 1, 1, 1, 0, 1, 1, 1, 1, 1, 1, 1, 0, 1, 0, 1, 1], 1004)\n",
      "time 929.3078801631927\n"
     ]
    }
   ],
   "source": [
    "P=60\n",
    "maxGen=500\n",
    "cap=878\n",
    "values=[44,46,90,72,91,40,75,35,8,54,78,40,77,15,61,17,75,29,75,63]\n",
    "print(len(values))\n",
    "weights=[92,4,43,83,84,68,92,82,6,44,32,18,56,83,25,96,70,48,14,58]\n",
    "print(len(weights))\n",
    "kga=KPGA(cap,values,weights,P,maxGen)\n",
    "start = time.time()\n",
    "maxiter=1200\n",
    "solutions=[]\n",
    "for i in range(maxiter):\n",
    "    kga.initialisation()\n",
    "    sol,f=kga.solveKsack_GA()\n",
    "    #print(sol,\" \",f)\n",
    "    solutions.append((sol,f))\n",
    "#print(solutions)\n",
    "solutions.sort(key=operator.itemgetter(1), reverse=True)\n",
    "print(solutions[0])\n",
    "end = time.time()\n",
    "\n",
    "print(\"time\", end - start)"
   ]
  },
  {
   "cell_type": "code",
   "execution_count": 16,
   "id": "71b96971",
   "metadata": {},
   "outputs": [
    {
     "name": "stdout",
     "output_type": "stream",
     "text": [
      "10\n",
      "10\n",
      "([0, 1, 1, 1, 0, 0, 0, 1, 1, 1], 295)\n",
      "time 10.108218669891357\n"
     ]
    }
   ],
   "source": [
    "P=50\n",
    "maxGen=100\n",
    "cap=269\n",
    "values=[55,10,47,5,4,50,8,61,85,87]\n",
    "print(len(values))\n",
    "weights=[95,4,60,32,23,72,80,62,65,46]\n",
    "print(len(weights))\n",
    "kga=KPGA(cap,values,weights,P,maxGen)\n",
    "start = time.time()\n",
    "maxiter=150\n",
    "solutions=[]\n",
    "for i in range(maxiter):\n",
    "    kga.initialisation()\n",
    "    sol,f=kga.solveKsack_GA()\n",
    "    #print(sol,\" \",f)\n",
    "    solutions.append((sol,f))\n",
    "#print(solutions)\n",
    "solutions.sort(key=operator.itemgetter(1), reverse=True)\n",
    "print(solutions[0])\n",
    "end = time.time()\n",
    "\n",
    "print(\"time\", end - start)"
   ]
  },
  {
   "cell_type": "code",
   "execution_count": null,
   "id": "14ed67a0",
   "metadata": {},
   "outputs": [],
   "source": []
  },
  {
   "cell_type": "code",
   "execution_count": null,
   "id": "f6d382d3",
   "metadata": {},
   "outputs": [],
   "source": []
  },
  {
   "cell_type": "code",
   "execution_count": null,
   "id": "e5f8d248",
   "metadata": {},
   "outputs": [],
   "source": []
  }
 ],
 "metadata": {
  "kernelspec": {
   "display_name": "Python 3",
   "language": "python",
   "name": "python3"
  },
  "language_info": {
   "codemirror_mode": {
    "name": "ipython",
    "version": 3
   },
   "file_extension": ".py",
   "mimetype": "text/x-python",
   "name": "python",
   "nbconvert_exporter": "python",
   "pygments_lexer": "ipython3",
   "version": "3.8.13"
  }
 },
 "nbformat": 4,
 "nbformat_minor": 5
}
